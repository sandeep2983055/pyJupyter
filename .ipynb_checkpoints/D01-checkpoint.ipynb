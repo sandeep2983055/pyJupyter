{
 "cells": [
  {
   "cell_type": "markdown",
   "id": "69519b8d",
   "metadata": {},
   "source": [
    "# Daily Practise File : Data Structures\n",
    "#-----------------------------\n",
    "#"
   ]
  },
  {
   "cell_type": "markdown",
   "id": "81b8f4de",
   "metadata": {},
   "source": [
    "## Features\n",
    "Mutable - Can be Changed\n",
    "Ordered - Data is Sorted, maintain the original order"
   ]
  },
  {
   "cell_type": "markdown",
   "id": "0f8f2746",
   "metadata": {},
   "source": [
    "## List"
   ]
  },
  {
   "cell_type": "code",
   "execution_count": 2,
   "id": "03c1f401",
   "metadata": {
    "scrolled": true
   },
   "outputs": [
    {
     "data": {
      "text/plain": [
       "[1, 2, 3, 4, 5, 'a', 'Dhiraj', 'Upadhyaya', 'Sandeep Kumar', True]"
      ]
     },
     "execution_count": 2,
     "metadata": {},
     "output_type": "execute_result"
    }
   ],
   "source": [
    "#List - ordered collection of items, mutable(changeable) : [square ]\n",
    "list1 = [1,2,3,4,5,'a','Dhiraj',\"Upadhyaya\", \"Sandeep Kumar\",True]  #list type of object with data\n",
    "list1  #print when through spyder"
   ]
  },
  {
   "cell_type": "code",
   "execution_count": 3,
   "id": "cd05b469",
   "metadata": {
    "scrolled": true
   },
   "outputs": [
    {
     "data": {
      "text/plain": [
       "list"
      ]
     },
     "execution_count": 3,
     "metadata": {},
     "output_type": "execute_result"
    }
   ],
   "source": [
    "type(list1)  #type of object"
   ]
  },
  {
   "cell_type": "code",
   "execution_count": 4,
   "id": "f7a249e6",
   "metadata": {
    "scrolled": true
   },
   "outputs": [
    {
     "name": "stdout",
     "output_type": "stream",
     "text": [
      "[1, 2, 3, 4, 5, 'a', 'Dhiraj', 'Upadhyaya', 'Sandeep Kumar', True]\n"
     ]
    }
   ],
   "source": [
    "print(list1)"
   ]
  },
  {
   "cell_type": "code",
   "execution_count": 5,
   "id": "ec07b690",
   "metadata": {
    "scrolled": true
   },
   "outputs": [
    {
     "data": {
      "text/plain": [
       "[1, 2, 3, 4, 5, 'a', 'Dhiraj', 'Upadhyaya', 'Sandeep Kumar', True]"
      ]
     },
     "execution_count": 5,
     "metadata": {},
     "output_type": "execute_result"
    }
   ],
   "source": [
    "# this also prints to screen\n",
    "list1"
   ]
  },
  {
   "cell_type": "code",
   "execution_count": 6,
   "id": "95062441",
   "metadata": {
    "scrolled": true
   },
   "outputs": [
    {
     "data": {
      "text/plain": [
       "[2, 3, 3, 4, 4, 4, 5, 5, 23, 43, 244, 324, 434, 523, 53442, 100000, 2245224]"
      ]
     },
     "execution_count": 6,
     "metadata": {},
     "output_type": "execute_result"
    }
   ],
   "source": [
    "# sort a list\n",
    "sorted([100000,5,3,2,4,5,324,43,4,4,3,23,434,53442,244,2245224,523])"
   ]
  },
  {
   "cell_type": "code",
   "execution_count": null,
   "id": "1e5be155",
   "metadata": {
    "scrolled": true
   },
   "outputs": [],
   "source": [
    "list2 = ['f','c','d','e',\"f\"]\n",
    "list2"
   ]
  },
  {
   "cell_type": "code",
   "execution_count": null,
   "id": "007c16f3",
   "metadata": {
    "scrolled": true
   },
   "outputs": [],
   "source": [
    "print(list2.count('f'), list2.count('d'))"
   ]
  },
  {
   "cell_type": "code",
   "execution_count": null,
   "id": "458c6369",
   "metadata": {
    "scrolled": true
   },
   "outputs": [],
   "source": [
    "len(list2)"
   ]
  },
  {
   "cell_type": "code",
   "execution_count": null,
   "id": "92faa37f",
   "metadata": {
    "scrolled": true
   },
   "outputs": [],
   "source": [
    "help(print)"
   ]
  },
  {
   "cell_type": "code",
   "execution_count": null,
   "id": "c5a96bbc",
   "metadata": {},
   "outputs": [],
   "source": [
    "print(dir(list), end ='\\t')  #functions/ methods available for list object"
   ]
  },
  {
   "cell_type": "code",
   "execution_count": null,
   "id": "958ecb06",
   "metadata": {},
   "outputs": [],
   "source": [
    "sorted(list2)"
   ]
  },
  {
   "cell_type": "code",
   "execution_count": null,
   "id": "96a55a21",
   "metadata": {},
   "outputs": [],
   "source": [
    "# select a particular item from list by inded\n",
    "list2[2]"
   ]
  },
  {
   "cell_type": "code",
   "execution_count": null,
   "id": "d10b8e63",
   "metadata": {},
   "outputs": [],
   "source": [
    "# change an item in list, assign (mutable object)\n",
    "list2[2] ='Z'\n",
    "print(list2)"
   ]
  },
  {
   "cell_type": "markdown",
   "id": "d3957d2a",
   "metadata": {},
   "source": [
    "## Tuple\n",
    "List type of an object, but not mutable (ie values cannot be changed)\n",
    "created by round brackets around the items ( )"
   ]
  },
  {
   "cell_type": "code",
   "execution_count": null,
   "id": "d2583209",
   "metadata": {
    "scrolled": true
   },
   "outputs": [],
   "source": [
    "tuple1 = (1,2, 'a', 'b')\n",
    "print(tuple1)"
   ]
  },
  {
   "cell_type": "code",
   "execution_count": null,
   "id": "44007b15",
   "metadata": {
    "scrolled": true
   },
   "outputs": [],
   "source": [
    "type(tuple1)"
   ]
  },
  {
   "cell_type": "code",
   "execution_count": null,
   "id": "a8d5e222",
   "metadata": {},
   "outputs": [],
   "source": [
    "# select item by index\n",
    "tuple1[1]"
   ]
  },
  {
   "cell_type": "code",
   "execution_count": null,
   "id": "57f8a1cd",
   "metadata": {},
   "outputs": [],
   "source": [
    "tuple1[1] = 0  #changes not possible, immutable\n",
    "# error - object does not support item assignment"
   ]
  },
  {
   "cell_type": "code",
   "execution_count": null,
   "id": "088d18d0",
   "metadata": {},
   "outputs": [],
   "source": [
    "# however all values of tuple can be reassigned, recreated\n",
    "tuple1 = (5,45) #overwriting is possible\n",
    "print(tuple1)"
   ]
  },
  {
   "cell_type": "markdown",
   "id": "2b56fd2a",
   "metadata": {},
   "source": [
    "## Dictionary \n",
    "Key-Value pairs\n",
    "created by curly brackets { key : value} with colon in between key and values"
   ]
  },
  {
   "cell_type": "code",
   "execution_count": null,
   "id": "bdc38cc7",
   "metadata": {},
   "outputs": [],
   "source": [
    "dict1 = {1:'Ramesh', 2:'Suresh', 3:'Priyanka'}\n",
    "dict1"
   ]
  },
  {
   "cell_type": "code",
   "execution_count": null,
   "id": "1fcc51c4",
   "metadata": {},
   "outputs": [],
   "source": [
    "type(dict1)"
   ]
  },
  {
   "cell_type": "code",
   "execution_count": null,
   "id": "c6875e78",
   "metadata": {},
   "outputs": [],
   "source": [
    "# create a dictionary object\n",
    "car = { 'brand':'Honda', 'model': 'Jazz', 'year' : 2017}\n",
    "car"
   ]
  },
  {
   "cell_type": "code",
   "execution_count": null,
   "id": "aa35ce89",
   "metadata": {},
   "outputs": [],
   "source": [
    "type(car)   #dict type"
   ]
  },
  {
   "cell_type": "code",
   "execution_count": null,
   "id": "dcd1d1d5",
   "metadata": {},
   "outputs": [],
   "source": [
    "#access\n",
    "print(car['brand'])\n",
    "print(car['year'])\n",
    "print(car.get('year'))"
   ]
  },
  {
   "cell_type": "code",
   "execution_count": null,
   "id": "05d69847",
   "metadata": {},
   "outputs": [],
   "source": [
    "print(dir(car), sep='\\t')   #functions available for dict object"
   ]
  },
  {
   "cell_type": "code",
   "execution_count": null,
   "id": "511d64a3",
   "metadata": {},
   "outputs": [],
   "source": [
    "help(dir) # help"
   ]
  },
  {
   "cell_type": "code",
   "execution_count": null,
   "id": "cbe3d4c3",
   "metadata": {},
   "outputs": [],
   "source": [
    "#mutable\n",
    "car['brand'] = 'MARUTI'\n",
    "car  #mutable , value can be changed"
   ]
  },
  {
   "cell_type": "markdown",
   "id": "268fbaad",
   "metadata": {},
   "source": [
    "# Frozen Dictionary\n",
    "Dictionary object whose values cannot be changed\n",
    "\n",
    "#%%frozen Dictionaries https://pypi.org/project/frozendict/\n",
    "\n",
    "#conda install -c conda-forge frozendict #from anaconda as admin"
   ]
  },
  {
   "cell_type": "markdown",
   "id": "e2bde5dc",
   "metadata": {},
   "source": [
    "## Sets\n",
    "unordered collection of simple items, immutable\n",
    "meaning elements have not a particular position inside a set.\n",
    "Created by curly bracket or set ()"
   ]
  },
  {
   "cell_type": "code",
   "execution_count": null,
   "id": "3de6d628",
   "metadata": {},
   "outputs": [],
   "source": [
    "set1 = set(['india', 'pakistan', 'england', 'australia','india'])\n",
    "set1  #sorted, unique"
   ]
  },
  {
   "cell_type": "code",
   "execution_count": null,
   "id": "376a13ea",
   "metadata": {},
   "outputs": [],
   "source": [
    "type(set1)"
   ]
  },
  {
   "cell_type": "code",
   "execution_count": null,
   "id": "5f0fa0c1",
   "metadata": {},
   "outputs": [],
   "source": [
    "set2 = {'INDIA','PAKISTAN',  \"INDIA\"}  #better way\n",
    "print('Set2 ', set2)\n",
    "set3 = {'Australia', 'South Africa', 'INDIA'}\n",
    "print('Set3 ',  set3)"
   ]
  },
  {
   "cell_type": "code",
   "execution_count": null,
   "id": "80ee81d2",
   "metadata": {},
   "outputs": [],
   "source": [
    "# set has an sorted function\n",
    "sorted(set3)"
   ]
  },
  {
   "cell_type": "code",
   "execution_count": null,
   "id": "d4723179",
   "metadata": {},
   "outputs": [],
   "source": [
    "#union  - combine all elements, remove duplicats\n",
    "set2.union(set3)"
   ]
  },
  {
   "cell_type": "code",
   "execution_count": null,
   "id": "7dcecab8",
   "metadata": {},
   "outputs": [],
   "source": [
    "#intersection - common elements in 2 sets\n",
    "#A.intersection(B)\n",
    "set2.intersection(set3) #set2 & set"
   ]
  },
  {
   "cell_type": "code",
   "execution_count": null,
   "id": "37467968",
   "metadata": {},
   "outputs": [],
   "source": [
    "print(dir(set2), sep ='\\t')  #functions in set, cannot be subscript set2[1]"
   ]
  },
  {
   "cell_type": "markdown",
   "id": "1ee22913",
   "metadata": {},
   "source": [
    "## Frozen Set\n",
    "Type of set, frozen ( round bracket, comma)"
   ]
  },
  {
   "cell_type": "code",
   "execution_count": null,
   "id": "41c6d2a3",
   "metadata": {},
   "outputs": [],
   "source": [
    "tupleFZ1 = (1, 2, 3, 4, 5, 6, 7, 8, 9, 9, 9) \n",
    "tupleFZ1   #immutable list is tuple"
   ]
  },
  {
   "cell_type": "code",
   "execution_count": null,
   "id": "7eb0b2ef",
   "metadata": {},
   "outputs": [],
   "source": [
    "type(tupleFZ1)"
   ]
  },
  {
   "cell_type": "code",
   "execution_count": null,
   "id": "b2d5aaf6",
   "metadata": {},
   "outputs": [],
   "source": [
    "# converting tuple to frozenset \n",
    "frozenset1 = frozenset(tupleFZ1) \n",
    "frozenset1  #only one 9"
   ]
  },
  {
   "cell_type": "code",
   "execution_count": null,
   "id": "c8ecd968",
   "metadata": {},
   "outputs": [],
   "source": [
    "type(frozenset1)"
   ]
  },
  {
   "cell_type": "code",
   "execution_count": null,
   "id": "8d04e67d",
   "metadata": {},
   "outputs": [],
   "source": [
    "# Dictionary to Frozen Set : only keys retained\n",
    "dict1 = {1: 'Ramesh', 2: 'Suresh', 3: 'Priyanka'}\n",
    "dict1\n",
    "frozenset2 = frozenset(dict1)\n",
    "type(frozenset2)\n",
    "frozenset2 #keys of dictionary made as frozen set"
   ]
  },
  {
   "cell_type": "markdown",
   "id": "dcb1a0a5",
   "metadata": {},
   "source": [
    "## Strings\n",
    "text with 'single quote'  or \"doublequote\"\n",
    "immutable (elements cannot be changed)\n",
    "However full string can be reassigned"
   ]
  },
  {
   "cell_type": "code",
   "execution_count": null,
   "id": "8d382b77",
   "metadata": {},
   "outputs": [],
   "source": [
    "str1 = 'Python Programming'\n",
    "print( 'Type of String \"', str1, '\" is ', type(str1))"
   ]
  },
  {
   "cell_type": "code",
   "execution_count": null,
   "id": "42b2b847",
   "metadata": {},
   "outputs": [],
   "source": [
    "#functions in string\n",
    "print(dir(str), sep='\\t')"
   ]
  },
  {
   "cell_type": "code",
   "execution_count": null,
   "id": "45e5eae9",
   "metadata": {},
   "outputs": [],
   "source": [
    "str2 = \"Dhiraj Upadhyaya\"\n",
    "str2.lower()"
   ]
  },
  {
   "cell_type": "code",
   "execution_count": null,
   "id": "d6d8dec8",
   "metadata": {},
   "outputs": [],
   "source": [
    "print(str2)\n",
    "str2[1] = 'Z' #immutable individual elements cannot be changed , but new string can be assigned"
   ]
  },
  {
   "cell_type": "code",
   "execution_count": null,
   "id": "b25e6f59",
   "metadata": {},
   "outputs": [],
   "source": [
    "str2 = 'Kounal'\n",
    "str2"
   ]
  },
  {
   "cell_type": "markdown",
   "id": "4eec4621",
   "metadata": {},
   "source": [
    "##  Important Data Structures\n",
    "list, tuple\n",
    "set, frozenset\n",
    "dictionary, frozenDictionary\n",
    "string"
   ]
  },
  {
   "cell_type": "markdown",
   "id": "7eaa9420",
   "metadata": {},
   "source": [
    "## Other Data Functions"
   ]
  },
  {
   "cell_type": "markdown",
   "id": "844908d3",
   "metadata": {},
   "source": [
    "### Sequence\n",
    "tuple and list are used"
   ]
  },
  {
   "cell_type": "code",
   "execution_count": null,
   "id": "7fe7f3fd",
   "metadata": {},
   "outputs": [],
   "source": [
    "list1 = [1,2,3,4,5]\n",
    "list2 = ['a','bb','ccc', 'dddd', 'eeeee']\n",
    "list1"
   ]
  },
  {
   "cell_type": "code",
   "execution_count": null,
   "id": "8b3b3fd8",
   "metadata": {},
   "outputs": [],
   "source": [
    "#for loop : indentations with colon : Run next 2 lines together\n",
    "for i in list1:\n",
    "    print(i)"
   ]
  },
  {
   "cell_type": "code",
   "execution_count": null,
   "id": "b0437b86",
   "metadata": {},
   "outputs": [],
   "source": [
    "#print inline with tab space\n",
    "for i in list1:    print(i , end ='\\t')"
   ]
  },
  {
   "cell_type": "code",
   "execution_count": null,
   "id": "6e6f2c6d",
   "metadata": {},
   "outputs": [],
   "source": [
    "# print with initial characters and some end characters\n",
    "for i in list2:    print(i, 'DU' , sep='-' , end ='xxx')"
   ]
  },
  {
   "cell_type": "code",
   "execution_count": null,
   "id": "b0989204",
   "metadata": {},
   "outputs": [],
   "source": [
    "#a-DU-xxx ; i+sep+end\n",
    "for i in list1:    print(i , 'HHHE', sep=' X ' , end ='\\t')"
   ]
  },
  {
   "cell_type": "code",
   "execution_count": null,
   "id": "e629477a",
   "metadata": {},
   "outputs": [],
   "source": [
    "# print with count\n",
    "for i in list1:    print('Dhiraj ', i + 6)"
   ]
  },
  {
   "cell_type": "code",
   "execution_count": null,
   "id": "a7398e98",
   "metadata": {},
   "outputs": [],
   "source": [
    "# tuple can also be printed in the same manner\n",
    "tuple1 = (1, 2, 'a', 'b')\n",
    "tuple1\n",
    "list5 = ['a',1]\n",
    "list5\n",
    "for i in tuple1:    print(i, end ='\\t')"
   ]
  },
  {
   "cell_type": "markdown",
   "id": "06dc3c35",
   "metadata": {},
   "source": [
    "### range\n",
    "help(range)  # start, stop, step; does not take keyword\n"
   ]
  },
  {
   "cell_type": "code",
   "execution_count": null,
   "id": "da186d9c",
   "metadata": {},
   "outputs": [],
   "source": [
    "range(1, 100, 2)  #nothing happens, though it generates "
   ]
  },
  {
   "cell_type": "code",
   "execution_count": null,
   "id": "b89f3f0a",
   "metadata": {},
   "outputs": [],
   "source": [
    "# print the range of values in sequence\n",
    "for i in range(1, 100, 2):    print(i, end=' ')"
   ]
  },
  {
   "cell_type": "markdown",
   "id": "553a4be0",
   "metadata": {},
   "source": [
    "### zip\n",
    "map the similar index of multiple containers\n",
    "zip() function returns a zip object, which is an iterator of tuples where the first item in each passed iterator is paired together, and then the second item in each passed iterator are paired together etc."
   ]
  },
  {
   "cell_type": "code",
   "execution_count": null,
   "id": "0d92a19c",
   "metadata": {},
   "outputs": [],
   "source": [
    "name = [ \"Dhiraj\", \"Kounal\", \"Akhil\", \"Pooja\" ] \n",
    "rollno = [ 4, 1, 3, 2 ] \n",
    "marks = [ 90, 50, 60, 70 ] \n",
    "# using zip() to map values \n",
    "mapped = zip(name, rollno, marks) \n",
    "mapped    #no output"
   ]
  },
  {
   "cell_type": "code",
   "execution_count": null,
   "id": "758daeac",
   "metadata": {},
   "outputs": [],
   "source": [
    "type(mapped)"
   ]
  },
  {
   "cell_type": "code",
   "execution_count": null,
   "id": "440690fe",
   "metadata": {},
   "outputs": [],
   "source": [
    "x = zip(name, rollno, marks)\n",
    "x"
   ]
  },
  {
   "cell_type": "code",
   "execution_count": null,
   "id": "42e6bb48",
   "metadata": {},
   "outputs": [],
   "source": [
    "print(set(x))"
   ]
  },
  {
   "cell_type": "code",
   "execution_count": null,
   "id": "37fe44a5",
   "metadata": {},
   "outputs": [],
   "source": [
    "for i , (n, r, m) in enumerate(zip(name, rollno, marks)):\n",
    "    print(i, n, r, m)"
   ]
  },
  {
   "cell_type": "markdown",
   "id": "da6bdb17",
   "metadata": {},
   "source": [
    "## Numpy - Numerical Python\n",
    "similar to list, but items to be one type (so less memory required to store and manipulate)\n",
    "more functions available\n",
    "helps in matrix computations"
   ]
  },
  {
   "cell_type": "code",
   "execution_count": null,
   "id": "c67e58ed",
   "metadata": {},
   "outputs": [],
   "source": [
    "#%% #numpy - array - same data type - numerical python\n",
    "list1 = [1,2,3,5]\n",
    "list1"
   ]
  },
  {
   "cell_type": "code",
   "execution_count": null,
   "id": "785997dc",
   "metadata": {},
   "outputs": [],
   "source": [
    "#%% #numpy - array - same data type - numerical python\n",
    "list1 = [1,2,3,5]\n",
    "list1\n"
   ]
  },
  {
   "cell_type": "code",
   "execution_count": null,
   "id": "dce321e1",
   "metadata": {},
   "outputs": [],
   "source": [
    "import numpy\n",
    "print(numpy.array([10,20])) #list to numpy array\n",
    "print(numpy.array([list1])) #list inside a list"
   ]
  },
  {
   "cell_type": "code",
   "execution_count": null,
   "id": "e38bd698",
   "metadata": {},
   "outputs": [],
   "source": [
    "import numpy as np #np is alias\n",
    "np1 = np.arange(1,10)\n",
    "np1"
   ]
  },
  {
   "cell_type": "code",
   "execution_count": null,
   "id": "fc81a352",
   "metadata": {},
   "outputs": [],
   "source": [
    "x=np.arange(start=1,stop=1000000,step=2)\n",
    "len(x)"
   ]
  },
  {
   "cell_type": "code",
   "execution_count": null,
   "id": "ac3e0dc8",
   "metadata": {},
   "outputs": [],
   "source": [
    "print(x[1:100])  # print from 1st position to 100th position\n",
    "print()\n",
    "print(x[1:50:10])  # print at interval of 10 starting 1st position to 50th position"
   ]
  },
  {
   "cell_type": "code",
   "execution_count": null,
   "id": "cbd7a673",
   "metadata": {},
   "outputs": [],
   "source": [
    "print(np.mean(np.arange(1,10000000)))\n",
    "#mean of np array of numbers from 1 to 10^7"
   ]
  },
  {
   "cell_type": "code",
   "execution_count": null,
   "id": "86eb2b55",
   "metadata": {},
   "outputs": [],
   "source": [
    "print(type(np1))\n",
    "print(dir(np1), sep ='\\t')"
   ]
  },
  {
   "cell_type": "code",
   "execution_count": null,
   "id": "14f60468",
   "metadata": {},
   "outputs": [],
   "source": [
    "help(np)"
   ]
  },
  {
   "cell_type": "code",
   "execution_count": null,
   "id": "16db0762",
   "metadata": {},
   "outputs": [],
   "source": [
    "help(np.mean)"
   ]
  },
  {
   "cell_type": "code",
   "execution_count": null,
   "id": "96b4efa8",
   "metadata": {},
   "outputs": [],
   "source": [
    "np2 = np.array([ 90, 50, 60, 70 ])\n",
    "print(np2)\n",
    "print('Sorted NP array ', np.sort(np2))"
   ]
  },
  {
   "cell_type": "code",
   "execution_count": null,
   "id": "fc25672f",
   "metadata": {},
   "outputs": [],
   "source": [
    "np3 = np.array([[1,4],[3,1],[5,6],[10,50]])\n",
    "np3\n",
    "#multi dim np array like matrix"
   ]
  },
  {
   "cell_type": "code",
   "execution_count": null,
   "id": "018e342d",
   "metadata": {},
   "outputs": [],
   "source": [
    "print(np3.shape)   #rows, columns\n",
    "print(np3.shape[0]) #rows\n",
    "print(np3.shape[1]) #cols\n",
    "x= np3.shape[0] * np3.shape[1]\n",
    "print('No of elements ', x)"
   ]
  },
  {
   "cell_type": "code",
   "execution_count": null,
   "id": "3ec09b79",
   "metadata": {},
   "outputs": [],
   "source": [
    "print(x%2 == 0)   #divisible by 2 : Even no of elements\n",
    "print(x%3 == 0)   #divisible by 3\n",
    "print(len(np3))   #no of rows"
   ]
  },
  {
   "cell_type": "code",
   "execution_count": null,
   "id": "12a2117a",
   "metadata": {},
   "outputs": [],
   "source": [
    "np3"
   ]
  },
  {
   "cell_type": "code",
   "execution_count": null,
   "id": "3f62493e",
   "metadata": {},
   "outputs": [],
   "source": [
    "# change the shape of np array\n",
    "np3.reshape((-1,1))  #1 column from 2 column\n",
    "#np.reshape((-1, noCols))   # from any number of columns change to 1 columns"
   ]
  },
  {
   "cell_type": "code",
   "execution_count": null,
   "id": "0b5c6d22",
   "metadata": {},
   "outputs": [],
   "source": [
    "np3.reshape((-1))   # no columns"
   ]
  },
  {
   "cell_type": "code",
   "execution_count": null,
   "id": "e59d65af",
   "metadata": {},
   "outputs": [],
   "source": [
    "np3.reshape((-1,2))"
   ]
  },
  {
   "cell_type": "code",
   "execution_count": null,
   "id": "883f0674",
   "metadata": {},
   "outputs": [],
   "source": [
    "np3.reshape((-1,3))  #error\n",
    "#cannot be converted to 3 columns as there are 8 elements and 8 is not divisible by 3"
   ]
  },
  {
   "cell_type": "code",
   "execution_count": null,
   "id": "69ed759d",
   "metadata": {},
   "outputs": [],
   "source": [
    "np3.reshape((-1,4))   # 4 columns"
   ]
  },
  {
   "cell_type": "markdown",
   "id": "a943dae3",
   "metadata": {},
   "source": [
    "## Pandas\n",
    "http://cs231n.github.io/python-numpy-tutorial/\n",
    "pandas - dataframe, excel like\n",
    "https://mode.com/python-tutorial/pandas-dataframe/\n",
    "https://pandas.pydata.org/pandas-docs/stable/"
   ]
  },
  {
   "cell_type": "code",
   "execution_count": null,
   "id": "9a643148",
   "metadata": {},
   "outputs": [],
   "source": [
    "import pandas as pd"
   ]
  },
  {
   "cell_type": "code",
   "execution_count": null,
   "id": "49e24444",
   "metadata": {},
   "outputs": [],
   "source": [
    "print(dir(pd), sep ='\\t')"
   ]
  },
  {
   "cell_type": "code",
   "execution_count": null,
   "id": "2837b079",
   "metadata": {},
   "outputs": [],
   "source": [
    "df1 = pd.DataFrame({'rollno':[1,2,3,4], \n",
    "                    'name': [ \"Dhiraj\", \"Kounal\", \"Akhil\", \"Pooja\" ], \n",
    "                    'marks':[ 40, 50, 60.5, 70 ], 'gender':['M', 'M','M', 'F']})\n",
    "print(df1)\n",
    "type(df1) "
   ]
  },
  {
   "cell_type": "code",
   "execution_count": null,
   "id": "335ab287",
   "metadata": {},
   "outputs": [],
   "source": [
    "df1"
   ]
  },
  {
   "cell_type": "code",
   "execution_count": null,
   "id": "c645cc50",
   "metadata": {},
   "outputs": [],
   "source": [
    "print('Column Names - ', df1.columns)  #column nanes\n",
    "print('Index/ Row Names - ', df1.index)  #row ids/ names  - here auto created\n",
    "print('Data Types -', df1.dtypes) #data types\n",
    "print('Shape of DF(R-C) -', df1.shape)  # rows and columns"
   ]
  },
  {
   "cell_type": "code",
   "execution_count": null,
   "id": "d125dce5",
   "metadata": {},
   "outputs": [],
   "source": [
    "print('Describe Values (Numerical)-  ', df1.describe()) #description of numerical values"
   ]
  },
  {
   "cell_type": "code",
   "execution_count": null,
   "id": "fffd3716",
   "metadata": {},
   "outputs": [],
   "source": [
    "# Groupby Functions on DF\n",
    "df1.groupby('gender').size()  # how many M, F"
   ]
  },
  {
   "cell_type": "code",
   "execution_count": null,
   "id": "118753a2",
   "metadata": {},
   "outputs": [],
   "source": [
    "df1.groupby('gender')['marks'].mean()  #mean marks of each gender type"
   ]
  },
  {
   "cell_type": "code",
   "execution_count": null,
   "id": "81c89c5e",
   "metadata": {},
   "outputs": [],
   "source": [
    "# other stats summary gender wise\n",
    "df1.groupby('gender').aggregate({'marks': [np.mean, 'max','min','std','count']})"
   ]
  },
  {
   "cell_type": "markdown",
   "id": "09cb2278",
   "metadata": {},
   "source": [
    "## Graphs\n",
    "Visualise data using different libraries of python\n",
    "https://python-graph-gallery.com/\n",
    "#https://matplotlib.org/"
   ]
  },
  {
   "cell_type": "code",
   "execution_count": null,
   "id": "067e523d",
   "metadata": {},
   "outputs": [],
   "source": [
    "#matplotlib\n",
    "import matplotlib.pyplot as plt"
   ]
  },
  {
   "cell_type": "code",
   "execution_count": null,
   "id": "c927aca8",
   "metadata": {},
   "outputs": [],
   "source": [
    "df1.groupby('gender').size()"
   ]
  },
  {
   "cell_type": "code",
   "execution_count": null,
   "id": "e92c9c50",
   "metadata": {},
   "outputs": [],
   "source": [
    "df1.groupby('gender').size().plot(kind='bar')\n",
    "#this is using plot function in pandas"
   ]
  },
  {
   "cell_type": "code",
   "execution_count": null,
   "id": "724fcef1",
   "metadata": {},
   "outputs": [],
   "source": [
    "plt.hist(df1['marks'])\n",
    "#this is using matplotlib"
   ]
  },
  {
   "cell_type": "code",
   "execution_count": null,
   "id": "1d653220",
   "metadata": {},
   "outputs": [],
   "source": [
    "# Seaborn library\n",
    "#https://seaborn.pydata.org/index.html\n",
    "import seaborn as sns"
   ]
  },
  {
   "cell_type": "code",
   "execution_count": null,
   "id": "a613db03",
   "metadata": {},
   "outputs": [],
   "source": [
    "# it has datasets also\n",
    "print(sns.get_dataset_names(), sep='\\t')"
   ]
  },
  {
   "cell_type": "code",
   "execution_count": null,
   "id": "40ea33a8",
   "metadata": {},
   "outputs": [],
   "source": [
    "# sns.set(style=\"ticks\", color_codes=True)\n",
    "iris = sns.load_dataset(\"iris\")  #load dataset from library\n",
    "iris.head()\n",
    "iris.tail()\n",
    "#np.log(iris.sepal_length)\n",
    "#np.log([1,10,1000])\n"
   ]
  },
  {
   "cell_type": "code",
   "execution_count": null,
   "id": "8433b70b",
   "metadata": {},
   "outputs": [],
   "source": [
    "iris.groupby('species').size().plot(kind='bar')  #matplot"
   ]
  },
  {
   "cell_type": "code",
   "execution_count": null,
   "id": "8dcbb718",
   "metadata": {},
   "outputs": [],
   "source": [
    "sns.pairplot(iris)  #relationship diagrams using sns"
   ]
  },
  {
   "cell_type": "markdown",
   "id": "b888fee6",
   "metadata": {},
   "source": [
    "## Datasets\n",
    "Load Inbuilt Datasets"
   ]
  },
  {
   "cell_type": "code",
   "execution_count": null,
   "id": "50fb3f77",
   "metadata": {},
   "outputs": [],
   "source": [
    "#pip install pydataset\n",
    "#install it first as it is not installed by default"
   ]
  },
  {
   "cell_type": "code",
   "execution_count": null,
   "id": "d29ca14c",
   "metadata": {},
   "outputs": [],
   "source": [
    "from pydataset import data"
   ]
  },
  {
   "cell_type": "code",
   "execution_count": null,
   "id": "011d8cad",
   "metadata": {},
   "outputs": [],
   "source": [
    "print(data())   #more than 700 datasets with name as dataset_id"
   ]
  },
  {
   "cell_type": "code",
   "execution_count": null,
   "id": "707d8183",
   "metadata": {},
   "outputs": [],
   "source": [
    "#load dataset or print\n",
    "data('iris')"
   ]
  },
  {
   "cell_type": "code",
   "execution_count": null,
   "id": "fd3ebb73",
   "metadata": {},
   "outputs": [],
   "source": [
    "data('mtcars')"
   ]
  },
  {
   "cell_type": "markdown",
   "id": "3269fe74",
   "metadata": {},
   "source": [
    "## Save DF to CSV and Excel"
   ]
  },
  {
   "cell_type": "code",
   "execution_count": null,
   "id": "afade9a3",
   "metadata": {},
   "outputs": [],
   "source": [
    "mtcarsDF = data('mtcars')\n",
    "mtcarsDF.head(6)"
   ]
  },
  {
   "cell_type": "code",
   "execution_count": null,
   "id": "73b452fa",
   "metadata": {},
   "outputs": [],
   "source": [
    "type(mtcarsDF)   #it is DF which can used with pandas library"
   ]
  },
  {
   "cell_type": "code",
   "execution_count": null,
   "id": "46d013df",
   "metadata": {},
   "outputs": [],
   "source": [
    "# save to csv\n",
    "mtcarsDF.to_csv('mtcars.csv')"
   ]
  },
  {
   "cell_type": "code",
   "execution_count": null,
   "id": "3f3ab281",
   "metadata": {},
   "outputs": [],
   "source": [
    "# save to excel\n",
    "mtcarsDF.to_excel('mtcarsExcel.xlsx','sheet3', header=True)"
   ]
  },
  {
   "cell_type": "code",
   "execution_count": null,
   "id": "58fdb853",
   "metadata": {},
   "outputs": [],
   "source": [
    "import os\n",
    "dirContents = os.listdir('.')\n",
    "print(dirContents)"
   ]
  },
  {
   "cell_type": "markdown",
   "id": "58a66ab7",
   "metadata": {},
   "source": [
    "### Read from CSV and Excel"
   ]
  },
  {
   "cell_type": "code",
   "execution_count": null,
   "id": "c7add639",
   "metadata": {},
   "outputs": [],
   "source": [
    "data2a  #not defined"
   ]
  },
  {
   "cell_type": "code",
   "execution_count": null,
   "id": "9998b78c",
   "metadata": {},
   "outputs": [],
   "source": [
    "data2a = pd.read_csv('mtcars.csv') #when csv is in project folder\n",
    "data2a.head()   #now data can be read"
   ]
  },
  {
   "cell_type": "code",
   "execution_count": null,
   "id": "07e2e805",
   "metadata": {},
   "outputs": [],
   "source": [
    "print(data2b) #not defined, "
   ]
  },
  {
   "cell_type": "code",
   "execution_count": null,
   "id": "846917df",
   "metadata": {},
   "outputs": [],
   "source": [
    "data2b = pd.read_csv('E:/analytics/projects/pyanalytics/mtcars.csv')\n",
    "data2b.head()  # read from full path"
   ]
  },
  {
   "cell_type": "code",
   "execution_count": null,
   "id": "0316a4fc",
   "metadata": {},
   "outputs": [],
   "source": [
    "# read from excel"
   ]
  },
  {
   "cell_type": "code",
   "execution_count": null,
   "id": "9f160847",
   "metadata": {},
   "outputs": [],
   "source": [
    "data2c"
   ]
  },
  {
   "cell_type": "code",
   "execution_count": null,
   "id": "1dd11dd5",
   "metadata": {},
   "outputs": [],
   "source": [
    "data2c = pd.read_excel('mtcarsExcel.xlsx',header=0)\n",
    "data2c.head()"
   ]
  },
  {
   "cell_type": "code",
   "execution_count": null,
   "id": "8b81ef22",
   "metadata": {
    "scrolled": true
   },
   "outputs": [],
   "source": [
    "#end here....\n",
    "#now practise numpy and pandas..."
   ]
  },
  {
   "cell_type": "code",
   "execution_count": null,
   "id": "32a2bd05",
   "metadata": {},
   "outputs": [],
   "source": [
    "#last updated on 19Feb2023"
   ]
  },
  {
   "cell_type": "code",
   "execution_count": null,
   "id": "6d6b280d",
   "metadata": {},
   "outputs": [],
   "source": []
  }
 ],
 "metadata": {
  "kernelspec": {
   "display_name": "Python 3 (ipykernel)",
   "language": "python",
   "name": "python3"
  },
  "language_info": {
   "codemirror_mode": {
    "name": "ipython",
    "version": 3
   },
   "file_extension": ".py",
   "mimetype": "text/x-python",
   "name": "python",
   "nbconvert_exporter": "python",
   "pygments_lexer": "ipython3",
   "version": "3.9.13"
  }
 },
 "nbformat": 4,
 "nbformat_minor": 5
}
